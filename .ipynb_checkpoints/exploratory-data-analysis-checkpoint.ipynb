{
 "cells": [
  {
   "cell_type": "markdown",
   "metadata": {},
   "source": [
    "# Exploratory data analysis\n",
    "## Research project\n",
    "### 42180 Quantitative modelling of behaviour\n",
    "\n",
    "------\n",
    "\n",
    "**Group 11** <br>\n",
    "\n",
    "------\n",
    "\n",
    "Camille Babin <br>\n",
    "Martine Grangé <br>\n",
    "Mikkel Johansen <br>\n",
    "Kyriakos Michailidis <br>\n",
    "Jiri Spitzer\n",
    "\n",
    "------"
   ]
  },
  {
   "cell_type": "markdown",
   "metadata": {},
   "source": [
    "Import libraries and enable inline plotting"
   ]
  },
  {
   "cell_type": "code",
   "execution_count": 49,
   "metadata": {},
   "outputs": [],
   "source": [
    "import numpy as np\n",
    "import pandas as pd\n",
    "import matplotlib.pyplot as plt\n",
    "import math\n",
    "import warnings\n",
    "from collections import Counter\n",
    "from re import search as Search\n",
    "from IPython.display import display"
   ]
  },
  {
   "cell_type": "code",
   "execution_count": 46,
   "metadata": {},
   "outputs": [],
   "source": [
    "%matplotlib inline"
   ]
  },
  {
   "cell_type": "markdown",
   "metadata": {},
   "source": [
    "Disable warnings"
   ]
  },
  {
   "cell_type": "code",
   "execution_count": 47,
   "metadata": {},
   "outputs": [],
   "source": [
    "warnings.filterwarnings('ignore')"
   ]
  },
  {
   "cell_type": "markdown",
   "metadata": {},
   "source": [
    "Load data"
   ]
  },
  {
   "cell_type": "code",
   "execution_count": 3,
   "metadata": {},
   "outputs": [],
   "source": [
    "data_path = r'.\\data\\elisa_sp_6alt.xlsx'"
   ]
  },
  {
   "cell_type": "code",
   "execution_count": 4,
   "metadata": {},
   "outputs": [
    {
     "data": {
      "text/html": [
       "<div>\n",
       "<style scoped>\n",
       "    .dataframe tbody tr th:only-of-type {\n",
       "        vertical-align: middle;\n",
       "    }\n",
       "\n",
       "    .dataframe tbody tr th {\n",
       "        vertical-align: top;\n",
       "    }\n",
       "\n",
       "    .dataframe thead th {\n",
       "        text-align: right;\n",
       "    }\n",
       "</style>\n",
       "<table border=\"1\" class=\"dataframe\">\n",
       "  <thead>\n",
       "    <tr style=\"text-align: right;\">\n",
       "      <th></th>\n",
       "      <th>X1</th>\n",
       "      <th>ID</th>\n",
       "      <th>CHOICE</th>\n",
       "      <th>Alt_Description_ICV1</th>\n",
       "      <th>CarClass_ICV1</th>\n",
       "      <th>CarType_ICV1</th>\n",
       "      <th>Purchaseprice_ICV1</th>\n",
       "      <th>Operationcost_ICV1</th>\n",
       "      <th>Yearlycost__ICV1</th>\n",
       "      <th>Range_ICV1</th>\n",
       "      <th>...</th>\n",
       "      <th>Size_PHEV2</th>\n",
       "      <th>CO2_PHEV2</th>\n",
       "      <th>Charginginfrastructure_PHEV2</th>\n",
       "      <th>Chargingspeed_PHEV2</th>\n",
       "      <th>Homedistnearestcharger_PHEV2</th>\n",
       "      <th>Homechargeravailability_PHEV2</th>\n",
       "      <th>CHOICE18</th>\n",
       "      <th>c_Gender</th>\n",
       "      <th>c_Age</th>\n",
       "      <th>q9</th>\n",
       "    </tr>\n",
       "  </thead>\n",
       "  <tbody>\n",
       "    <tr>\n",
       "      <th>0</th>\n",
       "      <td>4</td>\n",
       "      <td>1</td>\n",
       "      <td>5</td>\n",
       "      <td>1</td>\n",
       "      <td>2</td>\n",
       "      <td>1</td>\n",
       "      <td>150000</td>\n",
       "      <td>1.22</td>\n",
       "      <td>4300</td>\n",
       "      <td>898</td>\n",
       "      <td>...</td>\n",
       "      <td>5</td>\n",
       "      <td>150</td>\n",
       "      <td>0</td>\n",
       "      <td>0</td>\n",
       "      <td>0</td>\n",
       "      <td>0</td>\n",
       "      <td>14</td>\n",
       "      <td>2</td>\n",
       "      <td>40</td>\n",
       "      <td>4</td>\n",
       "    </tr>\n",
       "    <tr>\n",
       "      <th>1</th>\n",
       "      <td>5</td>\n",
       "      <td>1</td>\n",
       "      <td>5</td>\n",
       "      <td>1</td>\n",
       "      <td>2</td>\n",
       "      <td>1</td>\n",
       "      <td>165000</td>\n",
       "      <td>1.11</td>\n",
       "      <td>5912</td>\n",
       "      <td>1097</td>\n",
       "      <td>...</td>\n",
       "      <td>4</td>\n",
       "      <td>169</td>\n",
       "      <td>0</td>\n",
       "      <td>0</td>\n",
       "      <td>0</td>\n",
       "      <td>0</td>\n",
       "      <td>14</td>\n",
       "      <td>2</td>\n",
       "      <td>40</td>\n",
       "      <td>4</td>\n",
       "    </tr>\n",
       "  </tbody>\n",
       "</table>\n",
       "<p>2 rows × 91 columns</p>\n",
       "</div>"
      ],
      "text/plain": [
       "   X1  ID  CHOICE  Alt_Description_ICV1  CarClass_ICV1  CarType_ICV1  \\\n",
       "0   4   1       5                     1              2             1   \n",
       "1   5   1       5                     1              2             1   \n",
       "\n",
       "   Purchaseprice_ICV1  Operationcost_ICV1  Yearlycost__ICV1  Range_ICV1  ...  \\\n",
       "0              150000                1.22              4300         898  ...   \n",
       "1              165000                1.11              5912        1097  ...   \n",
       "\n",
       "   Size_PHEV2  CO2_PHEV2  Charginginfrastructure_PHEV2  Chargingspeed_PHEV2  \\\n",
       "0           5        150                             0                    0   \n",
       "1           4        169                             0                    0   \n",
       "\n",
       "   Homedistnearestcharger_PHEV2  Homechargeravailability_PHEV2  CHOICE18  \\\n",
       "0                             0                              0        14   \n",
       "1                             0                              0        14   \n",
       "\n",
       "   c_Gender  c_Age  q9  \n",
       "0         2     40   4  \n",
       "1         2     40   4  \n",
       "\n",
       "[2 rows x 91 columns]"
      ]
     },
     "execution_count": 4,
     "metadata": {},
     "output_type": "execute_result"
    }
   ],
   "source": [
    "df = pd.read_excel(data_path)\n",
    "df.head(2)"
   ]
  },
  {
   "cell_type": "markdown",
   "metadata": {},
   "source": [
    "#### Explore data"
   ]
  },
  {
   "cell_type": "markdown",
   "metadata": {},
   "source": [
    "Size of the dataset"
   ]
  },
  {
   "cell_type": "code",
   "execution_count": 5,
   "metadata": {},
   "outputs": [
    {
     "name": "stdout",
     "output_type": "stream",
     "text": [
      "Row count:      11844\n",
      "Column count:   91\n"
     ]
    }
   ],
   "source": [
    "print(\"Row count:     \", df.shape[0]) \n",
    "print(\"Column count:  \", df.shape[1])"
   ]
  },
  {
   "cell_type": "markdown",
   "metadata": {},
   "source": [
    "Check for missing values"
   ]
  },
  {
   "cell_type": "code",
   "execution_count": 28,
   "metadata": {},
   "outputs": [
    {
     "data": {
      "text/html": [
       "<div>\n",
       "<style scoped>\n",
       "    .dataframe tbody tr th:only-of-type {\n",
       "        vertical-align: middle;\n",
       "    }\n",
       "\n",
       "    .dataframe tbody tr th {\n",
       "        vertical-align: top;\n",
       "    }\n",
       "\n",
       "    .dataframe thead th {\n",
       "        text-align: right;\n",
       "    }\n",
       "</style>\n",
       "<table border=\"1\" class=\"dataframe\">\n",
       "  <thead>\n",
       "    <tr style=\"text-align: right;\">\n",
       "      <th></th>\n",
       "      <th>Column name</th>\n",
       "      <th>N/A count</th>\n",
       "      <th>N/A %</th>\n",
       "    </tr>\n",
       "  </thead>\n",
       "  <tbody>\n",
       "    <tr>\n",
       "      <th>0</th>\n",
       "      <td>X1</td>\n",
       "      <td>0</td>\n",
       "      <td>0.0</td>\n",
       "    </tr>\n",
       "    <tr>\n",
       "      <th>68</th>\n",
       "      <td>CO2_PHEV1</td>\n",
       "      <td>0</td>\n",
       "      <td>0.0</td>\n",
       "    </tr>\n",
       "    <tr>\n",
       "      <th>66</th>\n",
       "      <td>Acceleration_PHEV1</td>\n",
       "      <td>0</td>\n",
       "      <td>0.0</td>\n",
       "    </tr>\n",
       "    <tr>\n",
       "      <th>65</th>\n",
       "      <td>Range_PHEV1</td>\n",
       "      <td>0</td>\n",
       "      <td>0.0</td>\n",
       "    </tr>\n",
       "    <tr>\n",
       "      <th>64</th>\n",
       "      <td>Yearlycost__PHEV1</td>\n",
       "      <td>0</td>\n",
       "      <td>0.0</td>\n",
       "    </tr>\n",
       "  </tbody>\n",
       "</table>\n",
       "</div>"
      ],
      "text/plain": [
       "           Column name  N/A count  N/A %\n",
       "0                   X1          0    0.0\n",
       "68           CO2_PHEV1          0    0.0\n",
       "66  Acceleration_PHEV1          0    0.0\n",
       "65         Range_PHEV1          0    0.0\n",
       "64   Yearlycost__PHEV1          0    0.0"
      ]
     },
     "execution_count": 28,
     "metadata": {},
     "output_type": "execute_result"
    }
   ],
   "source": [
    "stat = []\n",
    "for col in df.columns: \n",
    "    a = list(zip(Counter(df[col].isnull()).keys(), Counter(df[col].isnull()).values()))\n",
    "    try:\n",
    "        if (a[0][0] == True):\n",
    "            stat.append([col, a[0][1]])\n",
    "        elif (a[1][0] == True):\n",
    "            stat.append([col, a[1][1]])\n",
    "    except:\n",
    "        stat.append([col, 0])\n",
    "df_stat = pd.DataFrame(stat).rename(columns={0:'Column name',1:'N/A count'})\n",
    "df_stat = df_stat.sort_values(by=[\"N/A count\"], ascending=False)\n",
    "df_stat[\"N/A %\"] = round(df_stat[\"N/A count\"] / len(df) * 100,2)\n",
    "df_stat.head(5)"
   ]
  },
  {
   "cell_type": "markdown",
   "metadata": {},
   "source": [
    "Slect specific columns"
   ]
  },
  {
   "cell_type": "code",
   "execution_count": 18,
   "metadata": {},
   "outputs": [
    {
     "name": "stdout",
     "output_type": "stream",
     "text": [
      "['Purchaseprice_ICV1', 'Operationcost_ICV1', 'Yearlycost__ICV1', 'Range_ICV1', 'Acceleration_ICV1', 'Size_ICV1', 'CO2_ICV1', 'Charginginfrastructure_ICV1', 'Chargingspeed_ICV1', 'Homedistnearestcharger_ICV1', 'Homechargeravailability_ICV1', 'Purchaseprice_ICV2', 'Operationcost_ICV2', 'Yearlycost__ICV2', 'Range_ICV2', 'Acceleration_ICV2', 'Size_ICV2', 'CO2_ICV2', 'Charginginfrastructure_ICV2', 'Chargingspeed_ICV2', 'Homedistnearestcharger_ICV2', 'Homechargeravailability_ICV2', 'Purchaseprice_BEV1', 'Operationcost_BEV1', 'Yearlycost__BEV1', 'Range_BEV1', 'Acceleration_BEV1', 'Size_BEV1', 'CO2_BEV1', 'Charginginfrastructure_BEV1', 'Chargingspeed_BEV1', 'Homedistnearestcharger_BEV1', 'Homechargeravailability_BEV1', 'Purchaseprice_BEV2', 'Operationcost_BEV2', 'Yearlycost__BEV2', 'Range_BEV2', 'Acceleration_BEV2', 'Size_BEV2', 'CO2_BEV2', 'Charginginfrastructure_BEV2', 'Chargingspeed_BEV2', 'Homedistnearestcharger_BEV2', 'Homechargeravailability_BEV2', 'Purchaseprice_PHEV1', 'Operationcost_PHEV1', 'Yearlycost__PHEV1', 'Range_PHEV1', 'Acceleration_PHEV1', 'Size_PHEV1', 'CO2_PHEV1', 'Charginginfrastructure_PHEV1', 'Chargingspeed_PHEV1', 'Homedistnearestcharger_PHEV1', 'Homechargeravailability_PHEV1', 'Purchaseprice_PHEV2', 'Operationcost_PHEV2', 'Yearlycost__PHEV2', 'Range_PHEV2', 'Acceleration_PHEV2', 'Size_PHEV2', 'CO2_PHEV2', 'Charginginfrastructure_PHEV2', 'Chargingspeed_PHEV2', 'Homedistnearestcharger_PHEV2', 'Homechargeravailability_PHEV2']\n",
      "66\n"
     ]
    }
   ],
   "source": [
    "col = df.columns.to_list()\n",
    "\n",
    "pattern = [\n",
    "    \"Purchaseprice_\", \"cost_\", \"cost_\", \"CO2_\", \"Charging\",\n",
    "    \"Range\", \"Acceleration\", \"Home\", \"Size\"\n",
    "]\n",
    "col_s = []\n",
    "for c in col:\n",
    "    for p in pattern:\n",
    "        if Search(p,c):\n",
    "            col_s.append(c)\n",
    "            break\n",
    "            \n",
    "print(col_s)\n",
    "print(len(col_s))"
   ]
  },
  {
   "cell_type": "code",
   "execution_count": 19,
   "metadata": {},
   "outputs": [],
   "source": [
    "df2 = df.copy(deep=True)\n",
    "df2 = df2[col_s]"
   ]
  },
  {
   "cell_type": "code",
   "execution_count": 20,
   "metadata": {},
   "outputs": [],
   "source": [
    "# pd.options.display.max_columns = None"
   ]
  },
  {
   "cell_type": "markdown",
   "metadata": {},
   "source": [
    "Basic descriptive statistics"
   ]
  },
  {
   "cell_type": "code",
   "execution_count": 40,
   "metadata": {},
   "outputs": [
    {
     "data": {
      "text/html": [
       "<div>\n",
       "<style scoped>\n",
       "    .dataframe tbody tr th:only-of-type {\n",
       "        vertical-align: middle;\n",
       "    }\n",
       "\n",
       "    .dataframe tbody tr th {\n",
       "        vertical-align: top;\n",
       "    }\n",
       "\n",
       "    .dataframe thead th {\n",
       "        text-align: right;\n",
       "    }\n",
       "</style>\n",
       "<table border=\"1\" class=\"dataframe\">\n",
       "  <thead>\n",
       "    <tr style=\"text-align: right;\">\n",
       "      <th></th>\n",
       "      <th>count</th>\n",
       "      <th>mean</th>\n",
       "      <th>std</th>\n",
       "      <th>min</th>\n",
       "      <th>25%</th>\n",
       "      <th>50%</th>\n",
       "      <th>75%</th>\n",
       "      <th>max</th>\n",
       "    </tr>\n",
       "  </thead>\n",
       "  <tbody>\n",
       "    <tr>\n",
       "      <th>Purchaseprice_ICV1</th>\n",
       "      <td>11844.0</td>\n",
       "      <td>323794.579534</td>\n",
       "      <td>220690.048105</td>\n",
       "      <td>84000.00</td>\n",
       "      <td>185000.0</td>\n",
       "      <td>287500.00</td>\n",
       "      <td>430000.00</td>\n",
       "      <td>1600000.00</td>\n",
       "    </tr>\n",
       "    <tr>\n",
       "      <th>Operationcost_ICV1</th>\n",
       "      <td>11844.0</td>\n",
       "      <td>1.130655</td>\n",
       "      <td>0.181773</td>\n",
       "      <td>0.81</td>\n",
       "      <td>1.0</td>\n",
       "      <td>1.11</td>\n",
       "      <td>1.25</td>\n",
       "      <td>1.93</td>\n",
       "    </tr>\n",
       "    <tr>\n",
       "      <th>Yearlycost__ICV1</th>\n",
       "      <td>11844.0</td>\n",
       "      <td>6743.486407</td>\n",
       "      <td>2489.554132</td>\n",
       "      <td>3458.00</td>\n",
       "      <td>4783.0</td>\n",
       "      <td>5978.00</td>\n",
       "      <td>8175.00</td>\n",
       "      <td>13979.00</td>\n",
       "    </tr>\n",
       "    <tr>\n",
       "      <th>Range_ICV1</th>\n",
       "      <td>11844.0</td>\n",
       "      <td>919.882894</td>\n",
       "      <td>131.609390</td>\n",
       "      <td>735.00</td>\n",
       "      <td>812.0</td>\n",
       "      <td>898.00</td>\n",
       "      <td>997.00</td>\n",
       "      <td>1097.00</td>\n",
       "    </tr>\n",
       "    <tr>\n",
       "      <th>Acceleration_ICV1</th>\n",
       "      <td>11844.0</td>\n",
       "      <td>12.104188</td>\n",
       "      <td>2.614263</td>\n",
       "      <td>6.00</td>\n",
       "      <td>10.0</td>\n",
       "      <td>12.00</td>\n",
       "      <td>14.00</td>\n",
       "      <td>16.00</td>\n",
       "    </tr>\n",
       "    <tr>\n",
       "      <th>Size_ICV1</th>\n",
       "      <td>11844.0</td>\n",
       "      <td>3.697737</td>\n",
       "      <td>1.115545</td>\n",
       "      <td>2.00</td>\n",
       "      <td>3.0</td>\n",
       "      <td>4.00</td>\n",
       "      <td>5.00</td>\n",
       "      <td>5.00</td>\n",
       "    </tr>\n",
       "    <tr>\n",
       "      <th>CO2_ICV1</th>\n",
       "      <td>11844.0</td>\n",
       "      <td>132.939379</td>\n",
       "      <td>31.390587</td>\n",
       "      <td>70.00</td>\n",
       "      <td>100.0</td>\n",
       "      <td>138.00</td>\n",
       "      <td>161.00</td>\n",
       "      <td>182.00</td>\n",
       "    </tr>\n",
       "    <tr>\n",
       "      <th>Charginginfrastructure_ICV1</th>\n",
       "      <td>11844.0</td>\n",
       "      <td>0.000000</td>\n",
       "      <td>0.000000</td>\n",
       "      <td>0.00</td>\n",
       "      <td>0.0</td>\n",
       "      <td>0.00</td>\n",
       "      <td>0.00</td>\n",
       "      <td>0.00</td>\n",
       "    </tr>\n",
       "    <tr>\n",
       "      <th>Chargingspeed_ICV1</th>\n",
       "      <td>11844.0</td>\n",
       "      <td>0.000000</td>\n",
       "      <td>0.000000</td>\n",
       "      <td>0.00</td>\n",
       "      <td>0.0</td>\n",
       "      <td>0.00</td>\n",
       "      <td>0.00</td>\n",
       "      <td>0.00</td>\n",
       "    </tr>\n",
       "    <tr>\n",
       "      <th>Homedistnearestcharger_ICV1</th>\n",
       "      <td>11844.0</td>\n",
       "      <td>0.000000</td>\n",
       "      <td>0.000000</td>\n",
       "      <td>0.00</td>\n",
       "      <td>0.0</td>\n",
       "      <td>0.00</td>\n",
       "      <td>0.00</td>\n",
       "      <td>0.00</td>\n",
       "    </tr>\n",
       "    <tr>\n",
       "      <th>Homechargeravailability_ICV1</th>\n",
       "      <td>11844.0</td>\n",
       "      <td>0.000000</td>\n",
       "      <td>0.000000</td>\n",
       "      <td>0.00</td>\n",
       "      <td>0.0</td>\n",
       "      <td>0.00</td>\n",
       "      <td>0.00</td>\n",
       "      <td>0.00</td>\n",
       "    </tr>\n",
       "  </tbody>\n",
       "</table>\n",
       "</div>"
      ],
      "text/plain": [
       "                                count           mean            std       min  \\\n",
       "Purchaseprice_ICV1            11844.0  323794.579534  220690.048105  84000.00   \n",
       "Operationcost_ICV1            11844.0       1.130655       0.181773      0.81   \n",
       "Yearlycost__ICV1              11844.0    6743.486407    2489.554132   3458.00   \n",
       "Range_ICV1                    11844.0     919.882894     131.609390    735.00   \n",
       "Acceleration_ICV1             11844.0      12.104188       2.614263      6.00   \n",
       "Size_ICV1                     11844.0       3.697737       1.115545      2.00   \n",
       "CO2_ICV1                      11844.0     132.939379      31.390587     70.00   \n",
       "Charginginfrastructure_ICV1   11844.0       0.000000       0.000000      0.00   \n",
       "Chargingspeed_ICV1            11844.0       0.000000       0.000000      0.00   \n",
       "Homedistnearestcharger_ICV1   11844.0       0.000000       0.000000      0.00   \n",
       "Homechargeravailability_ICV1  11844.0       0.000000       0.000000      0.00   \n",
       "\n",
       "                                   25%        50%        75%         max  \n",
       "Purchaseprice_ICV1            185000.0  287500.00  430000.00  1600000.00  \n",
       "Operationcost_ICV1                 1.0       1.11       1.25        1.93  \n",
       "Yearlycost__ICV1                4783.0    5978.00    8175.00    13979.00  \n",
       "Range_ICV1                       812.0     898.00     997.00     1097.00  \n",
       "Acceleration_ICV1                 10.0      12.00      14.00       16.00  \n",
       "Size_ICV1                          3.0       4.00       5.00        5.00  \n",
       "CO2_ICV1                         100.0     138.00     161.00      182.00  \n",
       "Charginginfrastructure_ICV1        0.0       0.00       0.00        0.00  \n",
       "Chargingspeed_ICV1                 0.0       0.00       0.00        0.00  \n",
       "Homedistnearestcharger_ICV1        0.0       0.00       0.00        0.00  \n",
       "Homechargeravailability_ICV1       0.0       0.00       0.00        0.00  "
      ]
     },
     "metadata": {},
     "output_type": "display_data"
    },
    {
     "data": {
      "text/html": [
       "<div>\n",
       "<style scoped>\n",
       "    .dataframe tbody tr th:only-of-type {\n",
       "        vertical-align: middle;\n",
       "    }\n",
       "\n",
       "    .dataframe tbody tr th {\n",
       "        vertical-align: top;\n",
       "    }\n",
       "\n",
       "    .dataframe thead th {\n",
       "        text-align: right;\n",
       "    }\n",
       "</style>\n",
       "<table border=\"1\" class=\"dataframe\">\n",
       "  <thead>\n",
       "    <tr style=\"text-align: right;\">\n",
       "      <th></th>\n",
       "      <th>count</th>\n",
       "      <th>mean</th>\n",
       "      <th>std</th>\n",
       "      <th>min</th>\n",
       "      <th>25%</th>\n",
       "      <th>50%</th>\n",
       "      <th>75%</th>\n",
       "      <th>max</th>\n",
       "    </tr>\n",
       "  </thead>\n",
       "  <tbody>\n",
       "    <tr>\n",
       "      <th>Purchaseprice_ICV2</th>\n",
       "      <td>11844.0</td>\n",
       "      <td>383955.969267</td>\n",
       "      <td>314005.248600</td>\n",
       "      <td>84000.00</td>\n",
       "      <td>185000.0</td>\n",
       "      <td>287500.00</td>\n",
       "      <td>500000.0</td>\n",
       "      <td>1600000.00</td>\n",
       "    </tr>\n",
       "    <tr>\n",
       "      <th>Operationcost_ICV2</th>\n",
       "      <td>11844.0</td>\n",
       "      <td>1.158716</td>\n",
       "      <td>0.219698</td>\n",
       "      <td>0.81</td>\n",
       "      <td>1.0</td>\n",
       "      <td>1.12</td>\n",
       "      <td>1.3</td>\n",
       "      <td>1.93</td>\n",
       "    </tr>\n",
       "    <tr>\n",
       "      <th>Yearlycost__ICV2</th>\n",
       "      <td>11844.0</td>\n",
       "      <td>7315.013509</td>\n",
       "      <td>2977.313393</td>\n",
       "      <td>3458.00</td>\n",
       "      <td>4837.0</td>\n",
       "      <td>5978.00</td>\n",
       "      <td>9992.0</td>\n",
       "      <td>13979.00</td>\n",
       "    </tr>\n",
       "    <tr>\n",
       "      <th>Range_ICV2</th>\n",
       "      <td>11844.0</td>\n",
       "      <td>918.576241</td>\n",
       "      <td>131.561407</td>\n",
       "      <td>735.00</td>\n",
       "      <td>812.0</td>\n",
       "      <td>898.00</td>\n",
       "      <td>997.0</td>\n",
       "      <td>1097.00</td>\n",
       "    </tr>\n",
       "    <tr>\n",
       "      <th>Acceleration_ICV2</th>\n",
       "      <td>11844.0</td>\n",
       "      <td>11.742317</td>\n",
       "      <td>2.746849</td>\n",
       "      <td>6.00</td>\n",
       "      <td>10.0</td>\n",
       "      <td>12.00</td>\n",
       "      <td>14.0</td>\n",
       "      <td>16.00</td>\n",
       "    </tr>\n",
       "    <tr>\n",
       "      <th>Size_ICV2</th>\n",
       "      <td>11844.0</td>\n",
       "      <td>3.744090</td>\n",
       "      <td>1.189307</td>\n",
       "      <td>2.00</td>\n",
       "      <td>3.0</td>\n",
       "      <td>4.00</td>\n",
       "      <td>5.0</td>\n",
       "      <td>5.00</td>\n",
       "    </tr>\n",
       "    <tr>\n",
       "      <th>CO2_ICV2</th>\n",
       "      <td>11844.0</td>\n",
       "      <td>133.165316</td>\n",
       "      <td>31.696673</td>\n",
       "      <td>70.00</td>\n",
       "      <td>100.0</td>\n",
       "      <td>138.00</td>\n",
       "      <td>161.0</td>\n",
       "      <td>182.00</td>\n",
       "    </tr>\n",
       "    <tr>\n",
       "      <th>Charginginfrastructure_ICV2</th>\n",
       "      <td>11844.0</td>\n",
       "      <td>0.000000</td>\n",
       "      <td>0.000000</td>\n",
       "      <td>0.00</td>\n",
       "      <td>0.0</td>\n",
       "      <td>0.00</td>\n",
       "      <td>0.0</td>\n",
       "      <td>0.00</td>\n",
       "    </tr>\n",
       "    <tr>\n",
       "      <th>Chargingspeed_ICV2</th>\n",
       "      <td>11844.0</td>\n",
       "      <td>0.000000</td>\n",
       "      <td>0.000000</td>\n",
       "      <td>0.00</td>\n",
       "      <td>0.0</td>\n",
       "      <td>0.00</td>\n",
       "      <td>0.0</td>\n",
       "      <td>0.00</td>\n",
       "    </tr>\n",
       "    <tr>\n",
       "      <th>Homedistnearestcharger_ICV2</th>\n",
       "      <td>11844.0</td>\n",
       "      <td>0.000000</td>\n",
       "      <td>0.000000</td>\n",
       "      <td>0.00</td>\n",
       "      <td>0.0</td>\n",
       "      <td>0.00</td>\n",
       "      <td>0.0</td>\n",
       "      <td>0.00</td>\n",
       "    </tr>\n",
       "    <tr>\n",
       "      <th>Homechargeravailability_ICV2</th>\n",
       "      <td>11844.0</td>\n",
       "      <td>0.000000</td>\n",
       "      <td>0.000000</td>\n",
       "      <td>0.00</td>\n",
       "      <td>0.0</td>\n",
       "      <td>0.00</td>\n",
       "      <td>0.0</td>\n",
       "      <td>0.00</td>\n",
       "    </tr>\n",
       "  </tbody>\n",
       "</table>\n",
       "</div>"
      ],
      "text/plain": [
       "                                count           mean            std       min  \\\n",
       "Purchaseprice_ICV2            11844.0  383955.969267  314005.248600  84000.00   \n",
       "Operationcost_ICV2            11844.0       1.158716       0.219698      0.81   \n",
       "Yearlycost__ICV2              11844.0    7315.013509    2977.313393   3458.00   \n",
       "Range_ICV2                    11844.0     918.576241     131.561407    735.00   \n",
       "Acceleration_ICV2             11844.0      11.742317       2.746849      6.00   \n",
       "Size_ICV2                     11844.0       3.744090       1.189307      2.00   \n",
       "CO2_ICV2                      11844.0     133.165316      31.696673     70.00   \n",
       "Charginginfrastructure_ICV2   11844.0       0.000000       0.000000      0.00   \n",
       "Chargingspeed_ICV2            11844.0       0.000000       0.000000      0.00   \n",
       "Homedistnearestcharger_ICV2   11844.0       0.000000       0.000000      0.00   \n",
       "Homechargeravailability_ICV2  11844.0       0.000000       0.000000      0.00   \n",
       "\n",
       "                                   25%        50%       75%         max  \n",
       "Purchaseprice_ICV2            185000.0  287500.00  500000.0  1600000.00  \n",
       "Operationcost_ICV2                 1.0       1.12       1.3        1.93  \n",
       "Yearlycost__ICV2                4837.0    5978.00    9992.0    13979.00  \n",
       "Range_ICV2                       812.0     898.00     997.0     1097.00  \n",
       "Acceleration_ICV2                 10.0      12.00      14.0       16.00  \n",
       "Size_ICV2                          3.0       4.00       5.0        5.00  \n",
       "CO2_ICV2                         100.0     138.00     161.0      182.00  \n",
       "Charginginfrastructure_ICV2        0.0       0.00       0.0        0.00  \n",
       "Chargingspeed_ICV2                 0.0       0.00       0.0        0.00  \n",
       "Homedistnearestcharger_ICV2        0.0       0.00       0.0        0.00  \n",
       "Homechargeravailability_ICV2       0.0       0.00       0.0        0.00  "
      ]
     },
     "metadata": {},
     "output_type": "display_data"
    },
    {
     "data": {
      "text/html": [
       "<div>\n",
       "<style scoped>\n",
       "    .dataframe tbody tr th:only-of-type {\n",
       "        vertical-align: middle;\n",
       "    }\n",
       "\n",
       "    .dataframe tbody tr th {\n",
       "        vertical-align: top;\n",
       "    }\n",
       "\n",
       "    .dataframe thead th {\n",
       "        text-align: right;\n",
       "    }\n",
       "</style>\n",
       "<table border=\"1\" class=\"dataframe\">\n",
       "  <thead>\n",
       "    <tr style=\"text-align: right;\">\n",
       "      <th></th>\n",
       "      <th>count</th>\n",
       "      <th>mean</th>\n",
       "      <th>std</th>\n",
       "      <th>min</th>\n",
       "      <th>25%</th>\n",
       "      <th>50%</th>\n",
       "      <th>75%</th>\n",
       "      <th>max</th>\n",
       "    </tr>\n",
       "  </thead>\n",
       "  <tbody>\n",
       "    <tr>\n",
       "      <th>Purchaseprice_BEV1</th>\n",
       "      <td>11844.0</td>\n",
       "      <td>325876.815265</td>\n",
       "      <td>215596.599891</td>\n",
       "      <td>90000.00</td>\n",
       "      <td>220000.00</td>\n",
       "      <td>275000.00</td>\n",
       "      <td>350000.0</td>\n",
       "      <td>1600000.00</td>\n",
       "    </tr>\n",
       "    <tr>\n",
       "      <th>Operationcost_BEV1</th>\n",
       "      <td>11844.0</td>\n",
       "      <td>0.654107</td>\n",
       "      <td>0.099738</td>\n",
       "      <td>0.49</td>\n",
       "      <td>0.57</td>\n",
       "      <td>0.63</td>\n",
       "      <td>0.7</td>\n",
       "      <td>0.99</td>\n",
       "    </tr>\n",
       "    <tr>\n",
       "      <th>Yearlycost__BEV1</th>\n",
       "      <td>11844.0</td>\n",
       "      <td>6888.313999</td>\n",
       "      <td>2811.127431</td>\n",
       "      <td>3610.00</td>\n",
       "      <td>4997.00</td>\n",
       "      <td>5899.00</td>\n",
       "      <td>7992.0</td>\n",
       "      <td>15827.00</td>\n",
       "    </tr>\n",
       "    <tr>\n",
       "      <th>Range_BEV1</th>\n",
       "      <td>11844.0</td>\n",
       "      <td>346.086626</td>\n",
       "      <td>139.712937</td>\n",
       "      <td>100.00</td>\n",
       "      <td>230.00</td>\n",
       "      <td>350.00</td>\n",
       "      <td>450.0</td>\n",
       "      <td>600.00</td>\n",
       "    </tr>\n",
       "    <tr>\n",
       "      <th>Acceleration_BEV1</th>\n",
       "      <td>11844.0</td>\n",
       "      <td>8.288923</td>\n",
       "      <td>2.393546</td>\n",
       "      <td>3.00</td>\n",
       "      <td>7.00</td>\n",
       "      <td>8.00</td>\n",
       "      <td>10.0</td>\n",
       "      <td>13.00</td>\n",
       "    </tr>\n",
       "    <tr>\n",
       "      <th>Size_BEV1</th>\n",
       "      <td>11844.0</td>\n",
       "      <td>3.697737</td>\n",
       "      <td>1.115545</td>\n",
       "      <td>2.00</td>\n",
       "      <td>3.00</td>\n",
       "      <td>4.00</td>\n",
       "      <td>5.0</td>\n",
       "      <td>5.00</td>\n",
       "    </tr>\n",
       "    <tr>\n",
       "      <th>CO2_BEV1</th>\n",
       "      <td>11844.0</td>\n",
       "      <td>28.060284</td>\n",
       "      <td>23.805335</td>\n",
       "      <td>0.00</td>\n",
       "      <td>0.00</td>\n",
       "      <td>18.00</td>\n",
       "      <td>35.0</td>\n",
       "      <td>70.00</td>\n",
       "    </tr>\n",
       "    <tr>\n",
       "      <th>Charginginfrastructure_BEV1</th>\n",
       "      <td>11844.0</td>\n",
       "      <td>75.101317</td>\n",
       "      <td>33.512817</td>\n",
       "      <td>30.00</td>\n",
       "      <td>60.00</td>\n",
       "      <td>90.00</td>\n",
       "      <td>120.0</td>\n",
       "      <td>120.00</td>\n",
       "    </tr>\n",
       "    <tr>\n",
       "      <th>Chargingspeed_BEV1</th>\n",
       "      <td>11844.0</td>\n",
       "      <td>96.040611</td>\n",
       "      <td>41.464524</td>\n",
       "      <td>35.00</td>\n",
       "      <td>75.00</td>\n",
       "      <td>100.00</td>\n",
       "      <td>150.0</td>\n",
       "      <td>160.00</td>\n",
       "    </tr>\n",
       "    <tr>\n",
       "      <th>Homedistnearestcharger_BEV1</th>\n",
       "      <td>11844.0</td>\n",
       "      <td>162.803951</td>\n",
       "      <td>222.873162</td>\n",
       "      <td>0.00</td>\n",
       "      <td>0.00</td>\n",
       "      <td>0.00</td>\n",
       "      <td>300.0</td>\n",
       "      <td>600.00</td>\n",
       "    </tr>\n",
       "    <tr>\n",
       "      <th>Homechargeravailability_BEV1</th>\n",
       "      <td>11844.0</td>\n",
       "      <td>1.158983</td>\n",
       "      <td>1.459742</td>\n",
       "      <td>0.00</td>\n",
       "      <td>0.00</td>\n",
       "      <td>0.00</td>\n",
       "      <td>2.0</td>\n",
       "      <td>4.00</td>\n",
       "    </tr>\n",
       "  </tbody>\n",
       "</table>\n",
       "</div>"
      ],
      "text/plain": [
       "                                count           mean            std       min  \\\n",
       "Purchaseprice_BEV1            11844.0  325876.815265  215596.599891  90000.00   \n",
       "Operationcost_BEV1            11844.0       0.654107       0.099738      0.49   \n",
       "Yearlycost__BEV1              11844.0    6888.313999    2811.127431   3610.00   \n",
       "Range_BEV1                    11844.0     346.086626     139.712937    100.00   \n",
       "Acceleration_BEV1             11844.0       8.288923       2.393546      3.00   \n",
       "Size_BEV1                     11844.0       3.697737       1.115545      2.00   \n",
       "CO2_BEV1                      11844.0      28.060284      23.805335      0.00   \n",
       "Charginginfrastructure_BEV1   11844.0      75.101317      33.512817     30.00   \n",
       "Chargingspeed_BEV1            11844.0      96.040611      41.464524     35.00   \n",
       "Homedistnearestcharger_BEV1   11844.0     162.803951     222.873162      0.00   \n",
       "Homechargeravailability_BEV1  11844.0       1.158983       1.459742      0.00   \n",
       "\n",
       "                                    25%        50%       75%         max  \n",
       "Purchaseprice_BEV1            220000.00  275000.00  350000.0  1600000.00  \n",
       "Operationcost_BEV1                 0.57       0.63       0.7        0.99  \n",
       "Yearlycost__BEV1                4997.00    5899.00    7992.0    15827.00  \n",
       "Range_BEV1                       230.00     350.00     450.0      600.00  \n",
       "Acceleration_BEV1                  7.00       8.00      10.0       13.00  \n",
       "Size_BEV1                          3.00       4.00       5.0        5.00  \n",
       "CO2_BEV1                           0.00      18.00      35.0       70.00  \n",
       "Charginginfrastructure_BEV1       60.00      90.00     120.0      120.00  \n",
       "Chargingspeed_BEV1                75.00     100.00     150.0      160.00  \n",
       "Homedistnearestcharger_BEV1        0.00       0.00     300.0      600.00  \n",
       "Homechargeravailability_BEV1       0.00       0.00       2.0        4.00  "
      ]
     },
     "metadata": {},
     "output_type": "display_data"
    },
    {
     "data": {
      "text/html": [
       "<div>\n",
       "<style scoped>\n",
       "    .dataframe tbody tr th:only-of-type {\n",
       "        vertical-align: middle;\n",
       "    }\n",
       "\n",
       "    .dataframe tbody tr th {\n",
       "        vertical-align: top;\n",
       "    }\n",
       "\n",
       "    .dataframe thead th {\n",
       "        text-align: right;\n",
       "    }\n",
       "</style>\n",
       "<table border=\"1\" class=\"dataframe\">\n",
       "  <thead>\n",
       "    <tr style=\"text-align: right;\">\n",
       "      <th></th>\n",
       "      <th>count</th>\n",
       "      <th>mean</th>\n",
       "      <th>std</th>\n",
       "      <th>min</th>\n",
       "      <th>25%</th>\n",
       "      <th>50%</th>\n",
       "      <th>75%</th>\n",
       "      <th>max</th>\n",
       "    </tr>\n",
       "  </thead>\n",
       "  <tbody>\n",
       "    <tr>\n",
       "      <th>Purchaseprice_BEV2</th>\n",
       "      <td>11844.0</td>\n",
       "      <td>387880.361364</td>\n",
       "      <td>309721.993958</td>\n",
       "      <td>90000.00</td>\n",
       "      <td>220000.00</td>\n",
       "      <td>275000.00</td>\n",
       "      <td>500000.00</td>\n",
       "      <td>1600000.00</td>\n",
       "    </tr>\n",
       "    <tr>\n",
       "      <th>Operationcost_BEV2</th>\n",
       "      <td>11844.0</td>\n",
       "      <td>0.671738</td>\n",
       "      <td>0.116786</td>\n",
       "      <td>0.49</td>\n",
       "      <td>0.57</td>\n",
       "      <td>0.67</td>\n",
       "      <td>0.75</td>\n",
       "      <td>0.99</td>\n",
       "    </tr>\n",
       "    <tr>\n",
       "      <th>Yearlycost__BEV2</th>\n",
       "      <td>11844.0</td>\n",
       "      <td>7641.662614</td>\n",
       "      <td>3477.550326</td>\n",
       "      <td>3610.00</td>\n",
       "      <td>4997.00</td>\n",
       "      <td>6107.00</td>\n",
       "      <td>9769.00</td>\n",
       "      <td>15827.00</td>\n",
       "    </tr>\n",
       "    <tr>\n",
       "      <th>Range_BEV2</th>\n",
       "      <td>11844.0</td>\n",
       "      <td>346.716481</td>\n",
       "      <td>139.905957</td>\n",
       "      <td>100.00</td>\n",
       "      <td>250.00</td>\n",
       "      <td>350.00</td>\n",
       "      <td>450.00</td>\n",
       "      <td>600.00</td>\n",
       "    </tr>\n",
       "    <tr>\n",
       "      <th>Acceleration_BEV2</th>\n",
       "      <td>11844.0</td>\n",
       "      <td>8.193431</td>\n",
       "      <td>2.495827</td>\n",
       "      <td>3.00</td>\n",
       "      <td>6.00</td>\n",
       "      <td>8.00</td>\n",
       "      <td>10.00</td>\n",
       "      <td>13.00</td>\n",
       "    </tr>\n",
       "    <tr>\n",
       "      <th>Size_BEV2</th>\n",
       "      <td>11844.0</td>\n",
       "      <td>3.744090</td>\n",
       "      <td>1.189307</td>\n",
       "      <td>2.00</td>\n",
       "      <td>3.00</td>\n",
       "      <td>4.00</td>\n",
       "      <td>5.00</td>\n",
       "      <td>5.00</td>\n",
       "    </tr>\n",
       "    <tr>\n",
       "      <th>CO2_BEV2</th>\n",
       "      <td>11844.0</td>\n",
       "      <td>28.115417</td>\n",
       "      <td>23.904361</td>\n",
       "      <td>0.00</td>\n",
       "      <td>0.00</td>\n",
       "      <td>18.00</td>\n",
       "      <td>35.00</td>\n",
       "      <td>70.00</td>\n",
       "    </tr>\n",
       "    <tr>\n",
       "      <th>Charginginfrastructure_BEV2</th>\n",
       "      <td>11844.0</td>\n",
       "      <td>75.101317</td>\n",
       "      <td>33.512817</td>\n",
       "      <td>30.00</td>\n",
       "      <td>60.00</td>\n",
       "      <td>90.00</td>\n",
       "      <td>120.00</td>\n",
       "      <td>120.00</td>\n",
       "    </tr>\n",
       "    <tr>\n",
       "      <th>Chargingspeed_BEV2</th>\n",
       "      <td>11844.0</td>\n",
       "      <td>97.508021</td>\n",
       "      <td>41.099600</td>\n",
       "      <td>35.00</td>\n",
       "      <td>75.00</td>\n",
       "      <td>100.00</td>\n",
       "      <td>125.00</td>\n",
       "      <td>160.00</td>\n",
       "    </tr>\n",
       "    <tr>\n",
       "      <th>Homedistnearestcharger_BEV2</th>\n",
       "      <td>11844.0</td>\n",
       "      <td>162.803951</td>\n",
       "      <td>222.873162</td>\n",
       "      <td>0.00</td>\n",
       "      <td>0.00</td>\n",
       "      <td>0.00</td>\n",
       "      <td>300.00</td>\n",
       "      <td>600.00</td>\n",
       "    </tr>\n",
       "    <tr>\n",
       "      <th>Homechargeravailability_BEV2</th>\n",
       "      <td>11844.0</td>\n",
       "      <td>1.158983</td>\n",
       "      <td>1.459742</td>\n",
       "      <td>0.00</td>\n",
       "      <td>0.00</td>\n",
       "      <td>0.00</td>\n",
       "      <td>2.00</td>\n",
       "      <td>4.00</td>\n",
       "    </tr>\n",
       "  </tbody>\n",
       "</table>\n",
       "</div>"
      ],
      "text/plain": [
       "                                count           mean            std       min  \\\n",
       "Purchaseprice_BEV2            11844.0  387880.361364  309721.993958  90000.00   \n",
       "Operationcost_BEV2            11844.0       0.671738       0.116786      0.49   \n",
       "Yearlycost__BEV2              11844.0    7641.662614    3477.550326   3610.00   \n",
       "Range_BEV2                    11844.0     346.716481     139.905957    100.00   \n",
       "Acceleration_BEV2             11844.0       8.193431       2.495827      3.00   \n",
       "Size_BEV2                     11844.0       3.744090       1.189307      2.00   \n",
       "CO2_BEV2                      11844.0      28.115417      23.904361      0.00   \n",
       "Charginginfrastructure_BEV2   11844.0      75.101317      33.512817     30.00   \n",
       "Chargingspeed_BEV2            11844.0      97.508021      41.099600     35.00   \n",
       "Homedistnearestcharger_BEV2   11844.0     162.803951     222.873162      0.00   \n",
       "Homechargeravailability_BEV2  11844.0       1.158983       1.459742      0.00   \n",
       "\n",
       "                                    25%        50%        75%         max  \n",
       "Purchaseprice_BEV2            220000.00  275000.00  500000.00  1600000.00  \n",
       "Operationcost_BEV2                 0.57       0.67       0.75        0.99  \n",
       "Yearlycost__BEV2                4997.00    6107.00    9769.00    15827.00  \n",
       "Range_BEV2                       250.00     350.00     450.00      600.00  \n",
       "Acceleration_BEV2                  6.00       8.00      10.00       13.00  \n",
       "Size_BEV2                          3.00       4.00       5.00        5.00  \n",
       "CO2_BEV2                           0.00      18.00      35.00       70.00  \n",
       "Charginginfrastructure_BEV2       60.00      90.00     120.00      120.00  \n",
       "Chargingspeed_BEV2                75.00     100.00     125.00      160.00  \n",
       "Homedistnearestcharger_BEV2        0.00       0.00     300.00      600.00  \n",
       "Homechargeravailability_BEV2       0.00       0.00       2.00        4.00  "
      ]
     },
     "metadata": {},
     "output_type": "display_data"
    },
    {
     "data": {
      "text/html": [
       "<div>\n",
       "<style scoped>\n",
       "    .dataframe tbody tr th:only-of-type {\n",
       "        vertical-align: middle;\n",
       "    }\n",
       "\n",
       "    .dataframe tbody tr th {\n",
       "        vertical-align: top;\n",
       "    }\n",
       "\n",
       "    .dataframe thead th {\n",
       "        text-align: right;\n",
       "    }\n",
       "</style>\n",
       "<table border=\"1\" class=\"dataframe\">\n",
       "  <thead>\n",
       "    <tr style=\"text-align: right;\">\n",
       "      <th></th>\n",
       "      <th>count</th>\n",
       "      <th>mean</th>\n",
       "      <th>std</th>\n",
       "      <th>min</th>\n",
       "      <th>25%</th>\n",
       "      <th>50%</th>\n",
       "      <th>75%</th>\n",
       "      <th>max</th>\n",
       "    </tr>\n",
       "  </thead>\n",
       "  <tbody>\n",
       "    <tr>\n",
       "      <th>Purchaseprice_PHEV1</th>\n",
       "      <td>11844.0</td>\n",
       "      <td>346058.806147</td>\n",
       "      <td>237965.117657</td>\n",
       "      <td>84000.00</td>\n",
       "      <td>200000.00</td>\n",
       "      <td>287500.00</td>\n",
       "      <td>430000.00</td>\n",
       "      <td>1600000.00</td>\n",
       "    </tr>\n",
       "    <tr>\n",
       "      <th>Operationcost_PHEV1</th>\n",
       "      <td>11844.0</td>\n",
       "      <td>1.105469</td>\n",
       "      <td>0.185237</td>\n",
       "      <td>0.75</td>\n",
       "      <td>0.95</td>\n",
       "      <td>1.11</td>\n",
       "      <td>1.23</td>\n",
       "      <td>1.79</td>\n",
       "    </tr>\n",
       "    <tr>\n",
       "      <th>Yearlycost__PHEV1</th>\n",
       "      <td>11844.0</td>\n",
       "      <td>6476.955420</td>\n",
       "      <td>2337.652254</td>\n",
       "      <td>3500.00</td>\n",
       "      <td>4933.00</td>\n",
       "      <td>5636.00</td>\n",
       "      <td>7529.00</td>\n",
       "      <td>13688.00</td>\n",
       "    </tr>\n",
       "    <tr>\n",
       "      <th>Range_PHEV1</th>\n",
       "      <td>11844.0</td>\n",
       "      <td>54.154002</td>\n",
       "      <td>25.156058</td>\n",
       "      <td>20.00</td>\n",
       "      <td>40.00</td>\n",
       "      <td>50.00</td>\n",
       "      <td>75.00</td>\n",
       "      <td>100.00</td>\n",
       "    </tr>\n",
       "    <tr>\n",
       "      <th>Acceleration_PHEV1</th>\n",
       "      <td>11844.0</td>\n",
       "      <td>8.299983</td>\n",
       "      <td>2.402488</td>\n",
       "      <td>3.00</td>\n",
       "      <td>7.00</td>\n",
       "      <td>9.00</td>\n",
       "      <td>11.00</td>\n",
       "      <td>13.00</td>\n",
       "    </tr>\n",
       "    <tr>\n",
       "      <th>Size_PHEV1</th>\n",
       "      <td>11844.0</td>\n",
       "      <td>3.697737</td>\n",
       "      <td>1.115545</td>\n",
       "      <td>2.00</td>\n",
       "      <td>3.00</td>\n",
       "      <td>4.00</td>\n",
       "      <td>5.00</td>\n",
       "      <td>5.00</td>\n",
       "    </tr>\n",
       "    <tr>\n",
       "      <th>CO2_PHEV1</th>\n",
       "      <td>11844.0</td>\n",
       "      <td>123.611702</td>\n",
       "      <td>28.273010</td>\n",
       "      <td>70.00</td>\n",
       "      <td>97.75</td>\n",
       "      <td>130.00</td>\n",
       "      <td>150.00</td>\n",
       "      <td>169.00</td>\n",
       "    </tr>\n",
       "    <tr>\n",
       "      <th>Charginginfrastructure_PHEV1</th>\n",
       "      <td>11844.0</td>\n",
       "      <td>0.000000</td>\n",
       "      <td>0.000000</td>\n",
       "      <td>0.00</td>\n",
       "      <td>0.00</td>\n",
       "      <td>0.00</td>\n",
       "      <td>0.00</td>\n",
       "      <td>0.00</td>\n",
       "    </tr>\n",
       "    <tr>\n",
       "      <th>Chargingspeed_PHEV1</th>\n",
       "      <td>11844.0</td>\n",
       "      <td>0.000000</td>\n",
       "      <td>0.000000</td>\n",
       "      <td>0.00</td>\n",
       "      <td>0.00</td>\n",
       "      <td>0.00</td>\n",
       "      <td>0.00</td>\n",
       "      <td>0.00</td>\n",
       "    </tr>\n",
       "    <tr>\n",
       "      <th>Homedistnearestcharger_PHEV1</th>\n",
       "      <td>11844.0</td>\n",
       "      <td>162.803951</td>\n",
       "      <td>222.873162</td>\n",
       "      <td>0.00</td>\n",
       "      <td>0.00</td>\n",
       "      <td>0.00</td>\n",
       "      <td>300.00</td>\n",
       "      <td>600.00</td>\n",
       "    </tr>\n",
       "    <tr>\n",
       "      <th>Homechargeravailability_PHEV1</th>\n",
       "      <td>11844.0</td>\n",
       "      <td>1.158983</td>\n",
       "      <td>1.459742</td>\n",
       "      <td>0.00</td>\n",
       "      <td>0.00</td>\n",
       "      <td>0.00</td>\n",
       "      <td>2.00</td>\n",
       "      <td>4.00</td>\n",
       "    </tr>\n",
       "  </tbody>\n",
       "</table>\n",
       "</div>"
      ],
      "text/plain": [
       "                                 count           mean            std  \\\n",
       "Purchaseprice_PHEV1            11844.0  346058.806147  237965.117657   \n",
       "Operationcost_PHEV1            11844.0       1.105469       0.185237   \n",
       "Yearlycost__PHEV1              11844.0    6476.955420    2337.652254   \n",
       "Range_PHEV1                    11844.0      54.154002      25.156058   \n",
       "Acceleration_PHEV1             11844.0       8.299983       2.402488   \n",
       "Size_PHEV1                     11844.0       3.697737       1.115545   \n",
       "CO2_PHEV1                      11844.0     123.611702      28.273010   \n",
       "Charginginfrastructure_PHEV1   11844.0       0.000000       0.000000   \n",
       "Chargingspeed_PHEV1            11844.0       0.000000       0.000000   \n",
       "Homedistnearestcharger_PHEV1   11844.0     162.803951     222.873162   \n",
       "Homechargeravailability_PHEV1  11844.0       1.158983       1.459742   \n",
       "\n",
       "                                    min        25%        50%        75%  \\\n",
       "Purchaseprice_PHEV1            84000.00  200000.00  287500.00  430000.00   \n",
       "Operationcost_PHEV1                0.75       0.95       1.11       1.23   \n",
       "Yearlycost__PHEV1               3500.00    4933.00    5636.00    7529.00   \n",
       "Range_PHEV1                       20.00      40.00      50.00      75.00   \n",
       "Acceleration_PHEV1                 3.00       7.00       9.00      11.00   \n",
       "Size_PHEV1                         2.00       3.00       4.00       5.00   \n",
       "CO2_PHEV1                         70.00      97.75     130.00     150.00   \n",
       "Charginginfrastructure_PHEV1       0.00       0.00       0.00       0.00   \n",
       "Chargingspeed_PHEV1                0.00       0.00       0.00       0.00   \n",
       "Homedistnearestcharger_PHEV1       0.00       0.00       0.00     300.00   \n",
       "Homechargeravailability_PHEV1      0.00       0.00       0.00       2.00   \n",
       "\n",
       "                                      max  \n",
       "Purchaseprice_PHEV1            1600000.00  \n",
       "Operationcost_PHEV1                  1.79  \n",
       "Yearlycost__PHEV1                13688.00  \n",
       "Range_PHEV1                        100.00  \n",
       "Acceleration_PHEV1                  13.00  \n",
       "Size_PHEV1                           5.00  \n",
       "CO2_PHEV1                          169.00  \n",
       "Charginginfrastructure_PHEV1         0.00  \n",
       "Chargingspeed_PHEV1                  0.00  \n",
       "Homedistnearestcharger_PHEV1       600.00  \n",
       "Homechargeravailability_PHEV1        4.00  "
      ]
     },
     "metadata": {},
     "output_type": "display_data"
    },
    {
     "data": {
      "text/html": [
       "<div>\n",
       "<style scoped>\n",
       "    .dataframe tbody tr th:only-of-type {\n",
       "        vertical-align: middle;\n",
       "    }\n",
       "\n",
       "    .dataframe tbody tr th {\n",
       "        vertical-align: top;\n",
       "    }\n",
       "\n",
       "    .dataframe thead th {\n",
       "        text-align: right;\n",
       "    }\n",
       "</style>\n",
       "<table border=\"1\" class=\"dataframe\">\n",
       "  <thead>\n",
       "    <tr style=\"text-align: right;\">\n",
       "      <th></th>\n",
       "      <th>count</th>\n",
       "      <th>mean</th>\n",
       "      <th>std</th>\n",
       "      <th>min</th>\n",
       "      <th>25%</th>\n",
       "      <th>50%</th>\n",
       "      <th>75%</th>\n",
       "      <th>max</th>\n",
       "    </tr>\n",
       "  </thead>\n",
       "  <tbody>\n",
       "    <tr>\n",
       "      <th>Purchaseprice_PHEV2</th>\n",
       "      <td>11844.0</td>\n",
       "      <td>412713.272543</td>\n",
       "      <td>326033.362631</td>\n",
       "      <td>84000.00</td>\n",
       "      <td>200000.00</td>\n",
       "      <td>287500.00</td>\n",
       "      <td>575000.00</td>\n",
       "      <td>1600000.00</td>\n",
       "    </tr>\n",
       "    <tr>\n",
       "      <th>Operationcost_PHEV2</th>\n",
       "      <td>11844.0</td>\n",
       "      <td>1.134606</td>\n",
       "      <td>0.218190</td>\n",
       "      <td>0.75</td>\n",
       "      <td>0.95</td>\n",
       "      <td>1.11</td>\n",
       "      <td>1.27</td>\n",
       "      <td>1.79</td>\n",
       "    </tr>\n",
       "    <tr>\n",
       "      <th>Yearlycost__PHEV2</th>\n",
       "      <td>11844.0</td>\n",
       "      <td>7082.948159</td>\n",
       "      <td>2860.516906</td>\n",
       "      <td>3500.00</td>\n",
       "      <td>4933.00</td>\n",
       "      <td>6030.00</td>\n",
       "      <td>9202.00</td>\n",
       "      <td>13688.00</td>\n",
       "    </tr>\n",
       "    <tr>\n",
       "      <th>Range_PHEV2</th>\n",
       "      <td>11844.0</td>\n",
       "      <td>55.222053</td>\n",
       "      <td>25.571928</td>\n",
       "      <td>20.00</td>\n",
       "      <td>40.00</td>\n",
       "      <td>50.00</td>\n",
       "      <td>76.25</td>\n",
       "      <td>100.00</td>\n",
       "    </tr>\n",
       "    <tr>\n",
       "      <th>Acceleration_PHEV2</th>\n",
       "      <td>11844.0</td>\n",
       "      <td>8.191489</td>\n",
       "      <td>2.505077</td>\n",
       "      <td>3.00</td>\n",
       "      <td>6.00</td>\n",
       "      <td>8.00</td>\n",
       "      <td>10.00</td>\n",
       "      <td>13.00</td>\n",
       "    </tr>\n",
       "    <tr>\n",
       "      <th>Size_PHEV2</th>\n",
       "      <td>11844.0</td>\n",
       "      <td>3.744090</td>\n",
       "      <td>1.189307</td>\n",
       "      <td>2.00</td>\n",
       "      <td>3.00</td>\n",
       "      <td>4.00</td>\n",
       "      <td>5.00</td>\n",
       "      <td>5.00</td>\n",
       "    </tr>\n",
       "    <tr>\n",
       "      <th>CO2_PHEV2</th>\n",
       "      <td>11844.0</td>\n",
       "      <td>124.075228</td>\n",
       "      <td>28.811681</td>\n",
       "      <td>70.00</td>\n",
       "      <td>97.75</td>\n",
       "      <td>130.00</td>\n",
       "      <td>150.00</td>\n",
       "      <td>169.00</td>\n",
       "    </tr>\n",
       "    <tr>\n",
       "      <th>Charginginfrastructure_PHEV2</th>\n",
       "      <td>11844.0</td>\n",
       "      <td>0.000000</td>\n",
       "      <td>0.000000</td>\n",
       "      <td>0.00</td>\n",
       "      <td>0.00</td>\n",
       "      <td>0.00</td>\n",
       "      <td>0.00</td>\n",
       "      <td>0.00</td>\n",
       "    </tr>\n",
       "    <tr>\n",
       "      <th>Chargingspeed_PHEV2</th>\n",
       "      <td>11844.0</td>\n",
       "      <td>0.000000</td>\n",
       "      <td>0.000000</td>\n",
       "      <td>0.00</td>\n",
       "      <td>0.00</td>\n",
       "      <td>0.00</td>\n",
       "      <td>0.00</td>\n",
       "      <td>0.00</td>\n",
       "    </tr>\n",
       "    <tr>\n",
       "      <th>Homedistnearestcharger_PHEV2</th>\n",
       "      <td>11844.0</td>\n",
       "      <td>162.803951</td>\n",
       "      <td>222.873162</td>\n",
       "      <td>0.00</td>\n",
       "      <td>0.00</td>\n",
       "      <td>0.00</td>\n",
       "      <td>300.00</td>\n",
       "      <td>600.00</td>\n",
       "    </tr>\n",
       "    <tr>\n",
       "      <th>Homechargeravailability_PHEV2</th>\n",
       "      <td>11844.0</td>\n",
       "      <td>1.158983</td>\n",
       "      <td>1.459742</td>\n",
       "      <td>0.00</td>\n",
       "      <td>0.00</td>\n",
       "      <td>0.00</td>\n",
       "      <td>2.00</td>\n",
       "      <td>4.00</td>\n",
       "    </tr>\n",
       "  </tbody>\n",
       "</table>\n",
       "</div>"
      ],
      "text/plain": [
       "                                 count           mean            std  \\\n",
       "Purchaseprice_PHEV2            11844.0  412713.272543  326033.362631   \n",
       "Operationcost_PHEV2            11844.0       1.134606       0.218190   \n",
       "Yearlycost__PHEV2              11844.0    7082.948159    2860.516906   \n",
       "Range_PHEV2                    11844.0      55.222053      25.571928   \n",
       "Acceleration_PHEV2             11844.0       8.191489       2.505077   \n",
       "Size_PHEV2                     11844.0       3.744090       1.189307   \n",
       "CO2_PHEV2                      11844.0     124.075228      28.811681   \n",
       "Charginginfrastructure_PHEV2   11844.0       0.000000       0.000000   \n",
       "Chargingspeed_PHEV2            11844.0       0.000000       0.000000   \n",
       "Homedistnearestcharger_PHEV2   11844.0     162.803951     222.873162   \n",
       "Homechargeravailability_PHEV2  11844.0       1.158983       1.459742   \n",
       "\n",
       "                                    min        25%        50%        75%  \\\n",
       "Purchaseprice_PHEV2            84000.00  200000.00  287500.00  575000.00   \n",
       "Operationcost_PHEV2                0.75       0.95       1.11       1.27   \n",
       "Yearlycost__PHEV2               3500.00    4933.00    6030.00    9202.00   \n",
       "Range_PHEV2                       20.00      40.00      50.00      76.25   \n",
       "Acceleration_PHEV2                 3.00       6.00       8.00      10.00   \n",
       "Size_PHEV2                         2.00       3.00       4.00       5.00   \n",
       "CO2_PHEV2                         70.00      97.75     130.00     150.00   \n",
       "Charginginfrastructure_PHEV2       0.00       0.00       0.00       0.00   \n",
       "Chargingspeed_PHEV2                0.00       0.00       0.00       0.00   \n",
       "Homedistnearestcharger_PHEV2       0.00       0.00       0.00     300.00   \n",
       "Homechargeravailability_PHEV2      0.00       0.00       0.00       2.00   \n",
       "\n",
       "                                      max  \n",
       "Purchaseprice_PHEV2            1600000.00  \n",
       "Operationcost_PHEV2                  1.79  \n",
       "Yearlycost__PHEV2                13688.00  \n",
       "Range_PHEV2                        100.00  \n",
       "Acceleration_PHEV2                  13.00  \n",
       "Size_PHEV2                           5.00  \n",
       "CO2_PHEV2                          169.00  \n",
       "Charginginfrastructure_PHEV2         0.00  \n",
       "Chargingspeed_PHEV2                  0.00  \n",
       "Homedistnearestcharger_PHEV2       600.00  \n",
       "Homechargeravailability_PHEV2        4.00  "
      ]
     },
     "metadata": {},
     "output_type": "display_data"
    }
   ],
   "source": [
    "col = df2.columns.to_list()\n",
    "cat = [\"ICV1\",\"ICV2\",\"BEV1\",\"BEV2\",\"PHEV1\",\"PHEV2\"]\n",
    "col_s = []\n",
    "for x in cat:\n",
    "    for c in col:\n",
    "        if Search(x,c):\n",
    "            col_s.append(c)\n",
    "    display(df2[col_s].describe().T)\n",
    "    col_s.clear()"
   ]
  },
  {
   "cell_type": "markdown",
   "metadata": {},
   "source": [
    "Plot Boxplots"
   ]
  },
  {
   "cell_type": "code",
   "execution_count": 43,
   "metadata": {},
   "outputs": [
    {
     "data": {
      "image/png": "[encoded data removed]",
      "text/plain": [
       "<Figure size 432x288 with 1 Axes>"
      ]
     },
     "metadata": {
      "needs_background": "light"
     },
     "output_type": "display_data"
    },
    {
     "data": {
      "image/png": "[encoded data removed]",
      "text/plain": [
       "<Figure size 432x288 with 1 Axes>"
      ]
     },
     "metadata": {
      "needs_background": "light"
     },
     "output_type": "display_data"
    },
    {
     "data": {
      "image/png": "[encoded data removed]",
      "text/plain": [
       "<Figure size 432x288 with 1 Axes>"
      ]
     },
     "metadata": {
      "needs_background": "light"
     },
     "output_type": "display_data"
    },
    {
     "data": {
      "image/png": "[encoded data removed]",
      "text/plain": [
       "<Figure size 432x288 with 1 Axes>"
      ]
     },
     "metadata": {
      "needs_background": "light"
     },
     "output_type": "display_data"
    },
    {
     "data": {
      "image/png": "[encoded data removed]",
      "text/plain": [
       "<Figure size 432x288 with 1 Axes>"
      ]
     },
     "metadata": {
      "needs_background": "light"
     },
     "output_type": "display_data"
    },
    {
     "data": {
      "image/png": "[encoded data removed]",
      "text/plain": [
       "<Figure size 432x288 with 1 Axes>"
      ]
     },
     "metadata": {
      "needs_background": "light"
     },
     "output_type": "display_data"
    },
    {
     "data": {
      "image/png": "[encoded data removed]",
      "text/plain": [
       "<Figure size 432x288 with 1 Axes>"
      ]
     },
     "metadata": {
      "needs_background": "light"
     },
     "output_type": "display_data"
    },
    {
     "data": {
      "image/png": "[encoded data removed]",
      "text/plain": [
       "<Figure size 432x288 with 1 Axes>"
      ]
     },
     "metadata": {
      "needs_background": "light"
     },
     "output_type": "display_data"
    },
    {
     "data": {
      "image/png": "[encoded data removed]",
      "text/plain": [
       "<Figure size 432x288 with 1 Axes>"
      ]
     },
     "metadata": {
      "needs_background": "light"
     },
     "output_type": "display_data"
    },
    {
     "data": {
      "image/png": "[encoded data removed]",
      "text/plain": [
       "<Figure size 432x288 with 1 Axes>"
      ]
     },
     "metadata": {
      "needs_background": "light"
     },
     "output_type": "display_data"
    },
    {
     "data": {
      "image/png": "[encoded data removed]",
      "text/plain": [
       "<Figure size 432x288 with 1 Axes>"
      ]
     },
     "metadata": {
      "needs_background": "light"
     },
     "output_type": "display_data"
    },
    {
     "data": {
      "image/png": "[encoded data removed]",
      "text/plain": [
       "<Figure size 432x288 with 1 Axes>"
      ]
     },
     "metadata": {
      "needs_background": "light"
     },
     "output_type": "display_data"
    },
    {
     "data": {
      "image/png": "[encoded data removed]",
      "text/plain": [
       "<Figure size 432x288 with 1 Axes>"
      ]
     },
     "metadata": {
      "needs_background": "light"
     },
     "output_type": "display_data"
    },
    {
     "data": {
      "image/png": "[encoded data removed]",
      "text/plain": [
       "<Figure size 432x288 with 1 Axes>"
      ]
     },
     "metadata": {
      "needs_background": "light"
     },
     "output_type": "display_data"
    },
    {
     "data": {
      "image/png": "[encoded data removed]",
      "text/plain": [
       "<Figure size 432x288 with 1 Axes>"
      ]
     },
     "metadata": {
      "needs_background": "light"
     },
     "output_type": "display_data"
    },
    {
     "data": {
      "image/png": "[encoded data removed]",
      "text/plain": [
       "<Figure size 432x288 with 1 Axes>"
      ]
     },
     "metadata": {
      "needs_background": "light"
     },
     "output_type": "display_data"
    },
    {
     "data": {
      "image/png": "[encoded data removed]",
      "text/plain": [
       "<Figure size 432x288 with 1 Axes>"
      ]
     },
     "metadata": {
      "needs_background": "light"
     },
     "output_type": "display_data"
    },
    {
     "data": {
      "image/png": "[encoded data removed]",
      "text/plain": [
       "<Figure size 432x288 with 1 Axes>"
      ]
     },
     "metadata": {
      "needs_background": "light"
     },
     "output_type": "display_data"
    },
    {
     "data": {
      "image/png": "[encoded data removed]",
      "text/plain": [
       "<Figure size 432x288 with 1 Axes>"
      ]
     },
     "metadata": {
      "needs_background": "light"
     },
     "output_type": "display_data"
    },
    {
     "data": {
      "image/png": "[encoded data removed]",
      "text/plain": [
       "<Figure size 432x288 with 1 Axes>"
      ]
     },
     "metadata": {
      "needs_background": "light"
     },
     "output_type": "display_data"
    },
    {
     "data": {
      "image/png": "[encoded data removed]",
      "text/plain": [
       "<Figure size 432x288 with 1 Axes>"
      ]
     },
     "metadata": {
      "needs_background": "light"
     },
     "output_type": "display_data"
    },
    {
     "data": {
      "image/png": "[encoded data removed]",
      "text/plain": [
       "<Figure size 432x288 with 1 Axes>"
      ]
     },
     "metadata": {
      "needs_background": "light"
     },
     "output_type": "display_data"
    },
    {
     "data": {
      "image/png": "[encoded data removed]",
      "text/plain": [
       "<Figure size 432x288 with 1 Axes>"
      ]
     },
     "metadata": {
      "needs_background": "light"
     },
     "output_type": "display_data"
    },
    {
     "data": {
      "image/png": "[encoded data removed]",
      "text/plain": [
       "<Figure size 432x288 with 1 Axes>"
      ]
     },
     "metadata": {
      "needs_background": "light"
     },
     "output_type": "display_data"
    },
    {
     "data": {
      "image/png": "[encoded data removed]",
      "text/plain": [
       "<Figure size 432x288 with 1 Axes>"
      ]
     },
     "metadata": {
      "needs_background": "light"
     },
     "output_type": "display_data"
    },
    {
     "data": {
      "image/png": "[encoded data removed]",
      "text/plain": [
       "<Figure size 432x288 with 1 Axes>"
      ]
     },
     "metadata": {
      "needs_background": "light"
     },
     "output_type": "display_data"
    },
    {
     "data": {
      "image/png": "[encoded data removed]",
      "text/plain": [
       "<Figure size 432x288 with 1 Axes>"
      ]
     },
     "metadata": {
      "needs_background": "light"
     },
     "output_type": "display_data"
    },
    {
     "data": {
      "image/png": "[encoded data removed]",
      "text/plain": [
       "<Figure size 432x288 with 1 Axes>"
      ]
     },
     "metadata": {
      "needs_background": "light"
     },
     "output_type": "display_data"
    },
    {
     "data": {
      "image/png": "[encoded data removed]",
      "text/plain": [
       "<Figure size 432x288 with 1 Axes>"
      ]
     },
     "metadata": {
      "needs_background": "light"
     },
     "output_type": "display_data"
    },
    {
     "data": {
      "image/png": "[encoded data removed]",
      "text/plain": [
       "<Figure size 432x288 with 1 Axes>"
      ]
     },
     "metadata": {
      "needs_background": "light"
     },
     "output_type": "display_data"
    },
    {
     "data": {
      "image/png": "[encoded data removed]",
      "text/plain": [
       "<Figure size 432x288 with 1 Axes>"
      ]
     },
     "metadata": {
      "needs_background": "light"
     },
     "output_type": "display_data"
    },
    {
     "data": {
      "image/png": "[encoded data removed]",
      "text/plain": [
       "<Figure size 432x288 with 1 Axes>"
      ]
     },
     "metadata": {
      "needs_background": "light"
     },
     "output_type": "display_data"
    },
    {
     "data": {
      "image/png": "[encoded data removed]",
      "text/plain": [
       "<Figure size 432x288 with 1 Axes>"
      ]
     },
     "metadata": {
      "needs_background": "light"
     },
     "output_type": "display_data"
    },
    {
     "data": {
      "image/png": "[encoded data removed]",
      "text/plain": [
       "<Figure size 432x288 with 1 Axes>"
      ]
     },
     "metadata": {
      "needs_background": "light"
     },
     "output_type": "display_data"
    },
    {
     "data": {
      "image/png": "[encoded data removed]",
      "text/plain": [
       "<Figure size 432x288 with 1 Axes>"
      ]
     },
     "metadata": {
      "needs_background": "light"
     },
     "output_type": "display_data"
    },
    {
     "data": {
      "image/png": "[encoded data removed]",
      "text/plain": [
       "<Figure size 432x288 with 1 Axes>"
      ]
     },
     "metadata": {
      "needs_background": "light"
     },
     "output_type": "display_data"
    },
    {
     "data": {
      "image/png": "[encoded data removed]",
      "text/plain": [
       "<Figure size 432x288 with 1 Axes>"
      ]
     },
     "metadata": {
      "needs_background": "light"
     },
     "output_type": "display_data"
    },
    {
     "data": {
      "image/png": "[encoded data removed]",
      "text/plain": [
       "<Figure size 432x288 with 1 Axes>"
      ]
     },
     "metadata": {
      "needs_background": "light"
     },
     "output_type": "display_data"
    },
    {
     "data": {
      "image/png": "[encoded data removed]",
      "text/plain": [
       "<Figure size 432x288 with 1 Axes>"
      ]
     },
     "metadata": {
      "needs_background": "light"
     },
     "output_type": "display_data"
    },
    {
     "data": {
      "image/png": "[encoded data removed]",
      "text/plain": [
       "<Figure size 432x288 with 1 Axes>"
      ]
     },
     "metadata": {
      "needs_background": "light"
     },
     "output_type": "display_data"
    },
    {
     "data": {
      "image/png": "[encoded data removed]",
      "text/plain": [
       "<Figure size 432x288 with 1 Axes>"
      ]
     },
     "metadata": {
      "needs_background": "light"
     },
     "output_type": "display_data"
    },
    {
     "data": {
      "image/png": "[encoded data removed]",
      "text/plain": [
       "<Figure size 432x288 with 1 Axes>"
      ]
     },
     "metadata": {
      "needs_background": "light"
     },
     "output_type": "display_data"
    },
    {
     "data": {
      "image/png": "[encoded data removed]",
      "text/plain": [
       "<Figure size 432x288 with 1 Axes>"
      ]
     },
     "metadata": {
      "needs_background": "light"
     },
     "output_type": "display_data"
    },
    {
     "data": {
      "image/png": "[encoded data removed]",
      "text/plain": [
       "<Figure size 432x288 with 1 Axes>"
      ]
     },
     "metadata": {
      "needs_background": "light"
     },
     "output_type": "display_data"
    },
    {
     "data": {
      "image/png": "[encoded data removed]",
      "text/plain": [
       "<Figure size 432x288 with 1 Axes>"
      ]
     },
     "metadata": {
      "needs_background": "light"
     },
     "output_type": "display_data"
    },
    {
     "data": {
      "image/png": "[encoded data removed]",
      "text/plain": [
       "<Figure size 432x288 with 1 Axes>"
      ]
     },
     "metadata": {
      "needs_background": "light"
     },
     "output_type": "display_data"
    },
    {
     "data": {
      "image/png": "[encoded data removed]",
      "text/plain": [
       "<Figure size 432x288 with 1 Axes>"
      ]
     },
     "metadata": {
      "needs_background": "light"
     },
     "output_type": "display_data"
    },
    {
     "data": {
      "image/png": "[encoded data removed]",
      "text/plain": [
       "<Figure size 432x288 with 1 Axes>"
      ]
     },
     "metadata": {
      "needs_background": "light"
     },
     "output_type": "display_data"
    },
    {
     "data": {
      "image/png": "[encoded data removed]",
      "text/plain": [
       "<Figure size 432x288 with 1 Axes>"
      ]
     },
     "metadata": {
      "needs_background": "light"
     },
     "output_type": "display_data"
    },
    {
     "data": {
      "image/png": "[encoded data removed]",
      "text/plain": [
       "<Figure size 432x288 with 1 Axes>"
      ]
     },
     "metadata": {
      "needs_background": "light"
     },
     "output_type": "display_data"
    },
    {
     "data": {
      "image/png": "[encoded data removed]",
      "text/plain": [
       "<Figure size 432x288 with 1 Axes>"
      ]
     },
     "metadata": {
      "needs_background": "light"
     },
     "output_type": "display_data"
    },
    {
     "data": {
      "image/png": "[encoded data removed]",
      "text/plain": [
       "<Figure size 432x288 with 1 Axes>"
      ]
     },
     "metadata": {
      "needs_background": "light"
     },
     "output_type": "display_data"
    },
    {
     "data": {
      "image/png": "[encoded data removed]",
      "text/plain": [
       "<Figure size 432x288 with 1 Axes>"
      ]
     },
     "metadata": {
      "needs_background": "light"
     },
     "output_type": "display_data"
    },
    {
     "data": {
      "image/png": "[encoded data removed]",
      "text/plain": [
       "<Figure size 432x288 with 1 Axes>"
      ]
     },
     "metadata": {
      "needs_background": "light"
     },
     "output_type": "display_data"
    },
    {
     "data": {
      "image/png": "[encoded data removed]",
      "text/plain": [
       "<Figure size 432x288 with 1 Axes>"
      ]
     },
     "metadata": {
      "needs_background": "light"
     },
     "output_type": "display_data"
    },
    {
     "data": {
      "image/png": "[encoded data removed]",
      "text/plain": [
       "<Figure size 432x288 with 1 Axes>"
      ]
     },
     "metadata": {
      "needs_background": "light"
     },
     "output_type": "display_data"
    },
    {
     "data": {
      "image/png": "[encoded data removed]",
      "text/plain": [
       "<Figure size 432x288 with 1 Axes>"
      ]
     },
     "metadata": {
      "needs_background": "light"
     },
     "output_type": "display_data"
    },
    {
     "data": {
      "image/png": "[encoded data removed]",
      "text/plain": [
       "<Figure size 432x288 with 1 Axes>"
      ]
     },
     "metadata": {
      "needs_background": "light"
     },
     "output_type": "display_data"
    },
    {
     "data": {
      "image/png": "[encoded data removed]",
      "text/plain": [
       "<Figure size 432x288 with 1 Axes>"
      ]
     },
     "metadata": {
      "needs_background": "light"
     },
     "output_type": "display_data"
    },
    {
     "data": {
      "image/png": "[encoded data removed]",
      "text/plain": [
       "<Figure size 432x288 with 1 Axes>"
      ]
     },
     "metadata": {
      "needs_background": "light"
     },
     "output_type": "display_data"
    },
    {
     "data": {
      "image/png": "[encoded data removed]",
      "text/plain": [
       "<Figure size 432x288 with 1 Axes>"
      ]
     },
     "metadata": {
      "needs_background": "light"
     },
     "output_type": "display_data"
    },
    {
     "data": {
      "image/png": "[encoded data removed]",
      "text/plain": [
       "<Figure size 432x288 with 1 Axes>"
      ]
     },
     "metadata": {
      "needs_background": "light"
     },
     "output_type": "display_data"
    },
    {
     "data": {
      "image/png": "[encoded data removed]",
      "text/plain": [
       "<Figure size 432x288 with 1 Axes>"
      ]
     },
     "metadata": {
      "needs_background": "light"
     },
     "output_type": "display_data"
    },
    {
     "data": {
      "image/png": "[encoded data removed]",
      "text/plain": [
       "<Figure size 432x288 with 1 Axes>"
      ]
     },
     "metadata": {
      "needs_background": "light"
     },
     "output_type": "display_data"
    },
    {
     "data": {
      "image/png": "[encoded data removed]",
      "text/plain": [
       "<Figure size 432x288 with 1 Axes>"
      ]
     },
     "metadata": {
      "needs_background": "light"
     },
     "output_type": "display_data"
    },
    {
     "data": {
      "image/png": "[encoded data removed]",
      "text/plain": [
       "<Figure size 432x288 with 1 Axes>"
      ]
     },
     "metadata": {
      "needs_background": "light"
     },
     "output_type": "display_data"
    }
   ],
   "source": [
    "for c in df2:\n",
    "    df2.boxplot(column = str(c))\n",
    "    plt.show()"
   ]
  },
  {
   "cell_type": "markdown",
   "metadata": {},
   "source": [
    "Display choices"
   ]
  },
  {
   "cell_type": "code",
   "execution_count": 89,
   "metadata": {},
   "outputs": [],
   "source": [
    "df.groupby('CHOICE')['CHOICE'].count()"
   ]
  },
  {
   "cell_type": "code",
   "execution_count": 71,
   "metadata": {},
   "outputs": [
    {
     "data": {
      "text/html": [
       "<div>\n",
       "<style scoped>\n",
       "    .dataframe tbody tr th:only-of-type {\n",
       "        vertical-align: middle;\n",
       "    }\n",
       "\n",
       "    .dataframe tbody tr th {\n",
       "        vertical-align: top;\n",
       "    }\n",
       "\n",
       "    .dataframe thead th {\n",
       "        text-align: right;\n",
       "    }\n",
       "</style>\n",
       "<table border=\"1\" class=\"dataframe\">\n",
       "  <thead>\n",
       "    <tr style=\"text-align: right;\">\n",
       "      <th></th>\n",
       "      <th>choice</th>\n",
       "      <th>count</th>\n",
       "      <th>ratio</th>\n",
       "    </tr>\n",
       "  </thead>\n",
       "  <tbody>\n",
       "    <tr>\n",
       "      <th>1</th>\n",
       "      <td>1</td>\n",
       "      <td>2829</td>\n",
       "      <td>23.8855</td>\n",
       "    </tr>\n",
       "    <tr>\n",
       "      <th>5</th>\n",
       "      <td>5</td>\n",
       "      <td>2656</td>\n",
       "      <td>22.4249</td>\n",
       "    </tr>\n",
       "    <tr>\n",
       "      <th>3</th>\n",
       "      <td>3</td>\n",
       "      <td>2589</td>\n",
       "      <td>21.8592</td>\n",
       "    </tr>\n",
       "    <tr>\n",
       "      <th>2</th>\n",
       "      <td>2</td>\n",
       "      <td>1318</td>\n",
       "      <td>11.1280</td>\n",
       "    </tr>\n",
       "    <tr>\n",
       "      <th>4</th>\n",
       "      <td>4</td>\n",
       "      <td>1307</td>\n",
       "      <td>11.0351</td>\n",
       "    </tr>\n",
       "    <tr>\n",
       "      <th>6</th>\n",
       "      <td>6</td>\n",
       "      <td>1138</td>\n",
       "      <td>9.6082</td>\n",
       "    </tr>\n",
       "    <tr>\n",
       "      <th>0</th>\n",
       "      <td>0</td>\n",
       "      <td>7</td>\n",
       "      <td>0.0591</td>\n",
       "    </tr>\n",
       "  </tbody>\n",
       "</table>\n",
       "</div>"
      ],
      "text/plain": [
       "   choice  count    ratio\n",
       "1       1   2829  23.8855\n",
       "5       5   2656  22.4249\n",
       "3       3   2589  21.8592\n",
       "2       2   1318  11.1280\n",
       "4       4   1307  11.0351\n",
       "6       6   1138   9.6082\n",
       "0       0      7   0.0591"
      ]
     },
     "execution_count": 71,
     "metadata": {},
     "output_type": "execute_result"
    }
   ],
   "source": [
    "choice = [x for x in range(0,7)]\n",
    "choice_cnt = df.groupby('CHOICE')['CHOICE'].count().to_list()\n",
    "choice_prc = [round(x * 100. / sum(choice_cnt),4) for x in choice_cnt]\n",
    "\n",
    "choice_stat = pd.DataFrame(\n",
    "    {\n",
    "        \"choice\": choice,\n",
    "        \"count\": choice_cnt,\n",
    "        \"ratio\": choice_prc\n",
    "    }\n",
    ")\n",
    "\n",
    "choice_stat.sort_values(by=['count'], ascending=False)"
   ]
  },
  {
   "cell_type": "code",
   "execution_count": 84,
   "metadata": {},
   "outputs": [
    {
     "data": {
      "image/png": "[encoded data removed]",
      "text/plain": [
       "<Figure size 432x288 with 1 Axes>"
      ]
     },
     "metadata": {
      "needs_background": "light"
     },
     "output_type": "display_data"
    }
   ],
   "source": [
    "plt.bar(choice_stat[\"choice\"].to_list(),choice_stat[\"count\"].to_list())\n",
    "plt.title('Choices')\n",
    "plt.xlabel('Count')\n",
    "plt.ylabel('Choice')\n",
    "plt.grid(True)\n",
    "plt.show()"
   ]
  },
  {
   "cell_type": "code",
   "execution_count": null,
   "metadata": {},
   "outputs": [],
   "source": []
  }
 ],
 "metadata": {
  "kernelspec": {
   "display_name": "Python 3",
   "language": "python",
   "name": "python3"
  },
  "language_info": {
   "codemirror_mode": {
    "name": "ipython",
    "version": 3
   },
   "file_extension": ".py",
   "mimetype": "text/x-python",
   "name": "python",
   "nbconvert_exporter": "python",
   "pygments_lexer": "ipython3",
   "version": "3.8.5"
  }
 },
 "nbformat": 4,
 "nbformat_minor": 4
}
